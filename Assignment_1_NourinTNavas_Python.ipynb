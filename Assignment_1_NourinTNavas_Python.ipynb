{
 "cells": [
  {
   "cell_type": "markdown",
   "metadata": {},
   "source": [
    "# Q1.What is 7 to the power of 4 ?"
   ]
  },
  {
   "cell_type": "code",
   "execution_count": 1,
   "metadata": {},
   "outputs": [
    {
     "data": {
      "text/plain": [
       "2401"
      ]
     },
     "execution_count": 1,
     "metadata": {},
     "output_type": "execute_result"
    }
   ],
   "source": [
    "# Ans:\n",
    "x=pow(7,4)\n",
    "x"
   ]
  },
  {
   "cell_type": "markdown",
   "metadata": {},
   "source": [
    "# Q2. Split this string into a list. \n",
    "#s = \"Hi there Sam!\""
   ]
  },
  {
   "cell_type": "code",
   "execution_count": 4,
   "metadata": {},
   "outputs": [
    {
     "data": {
      "text/plain": [
       "['Hi', 'there', 'Sam']"
      ]
     },
     "execution_count": 4,
     "metadata": {},
     "output_type": "execute_result"
    }
   ],
   "source": [
    "s=\"Hi there Sam\"\n",
    "s.split()"
   ]
  },
  {
   "cell_type": "markdown",
   "metadata": {},
   "source": [
    "# Q3. Given the variables\n",
    "#planet = \"Earth\"\n",
    "#diameter = 12742\n",
    "#Use .format() to print the following string\n",
    "#The diameter of Earth is 12742 kilometers."
   ]
  },
  {
   "cell_type": "code",
   "execution_count": 15,
   "metadata": {},
   "outputs": [
    {
     "name": "stdout",
     "output_type": "stream",
     "text": [
      "The diameter of earth is 12742 kilometers.\n"
     ]
    }
   ],
   "source": [
    "planet=\"earth\"\n",
    "diameter=12742\n",
    "# print(\"The diameter of the %s is %d kilometers.\"%(s,d)) or\n",
    "print('The diameter of {} is {} kilometers.' .format(planet,diameter));"
   ]
  },
  {
   "cell_type": "markdown",
   "metadata": {},
   "source": [
    "# Q4.Given this nested list, use indexing to grab the word \"hello\n",
    "    #lst = [1,2,[3,4],[5,[100,200,['hello']],23,11],1,7]\n"
   ]
  },
  {
   "cell_type": "code",
   "execution_count": 17,
   "metadata": {},
   "outputs": [
    {
     "data": {
      "text/plain": [
       "['hello']"
      ]
     },
     "execution_count": 17,
     "metadata": {},
     "output_type": "execute_result"
    }
   ],
   "source": [
    "lst=[1,2,[3,4],[5,[100,200,['hello']],23,11],1,7]\n",
    "lst[3][1][2]"
   ]
  },
  {
   "cell_type": "markdown",
   "metadata": {},
   "source": [
    "# Q5. Given this nested dictionary grab the word \"hello\". Be prepared, this will be annoying/tricky\n",
    "    #d = {'k1':[1,2,3,{'tricky':['oh','man','inception',{'target':[1,2,3,'hello']}]}]}"
   ]
  },
  {
   "cell_type": "code",
   "execution_count": 31,
   "metadata": {},
   "outputs": [
    {
     "name": "stdout",
     "output_type": "stream",
     "text": [
      "hello\n"
     ]
    }
   ],
   "source": [
    "d = {'k1':[1,2,3,{'tricky':['oh','man','inception',{'target':[1,2,3,'hello']}]}]}\n",
    "print(d['k1'][3][\"tricky\"][3]['target'][3])"
   ]
  },
  {
   "cell_type": "markdown",
   "metadata": {},
   "source": [
    "# Q6.What is the main difference between a tuple and a list ?"
   ]
  },
  {
   "cell_type": "code",
   "execution_count": 22,
   "metadata": {},
   "outputs": [],
   "source": [
    "#Tuple --\n",
    "    It is group of dissimillar elements\n",
    "    It is immutable \n",
    "    It is denoted by \"()\"\n",
    "    It supports indexing\n",
    "    \n",
    "#List --\n",
    "    It is a mutable, or changeable \n",
    "    Each element or value inside a list is called an item. \n",
    "    It is denoted by \"[]\""
   ]
  },
  {
   "cell_type": "markdown",
   "metadata": {},
   "source": [
    "# Q7. Create a function that grabs the email website domain from a string in the form : user@domain.com\n",
    "    #So for example, passing \"user@domain.com\" would return: domain.com"
   ]
  },
  {
   "cell_type": "code",
   "execution_count": 29,
   "metadata": {},
   "outputs": [
    {
     "name": "stdout",
     "output_type": "stream",
     "text": [
      "Please enter your email: aparna@gmail.com\n",
      "Your domain is:  gmail.com\n"
     ]
    }
   ],
   "source": [
    "def domain(email):\n",
    "    print(\"Your domain is:\",email.split('@')[-1])\n",
    "email = input(\"Please enter your email: \")\n",
    "domain(email)"
   ]
  },
  {
   "cell_type": "markdown",
   "metadata": {},
   "source": [
    "# Q8. Create a basic function that returns True if the word 'dog' is contained in the input string. \n",
    "    #Don't worry about edge cases like a punctuation being attached to the word dog, but do account for capitalization."
   ]
  },
  {
   "cell_type": "code",
   "execution_count": 1,
   "metadata": {},
   "outputs": [
    {
     "name": "stdout",
     "output_type": "stream",
     "text": [
      "enter string:Dog\n",
      "True\n"
     ]
    }
   ],
   "source": [
    "st=str(input(\"enter string:\"))\n",
    "st=st.lower()\n",
    "def findDog(st):\n",
    "    if 'dog' in st:\n",
    "        print(\"True\")\n",
    "    else:\n",
    "        print(\"False\")\n",
    "findDog(st)"
   ]
  },
  {
   "cell_type": "markdown",
   "metadata": {},
   "source": [
    "# Q9.Use lambda expressions and the filter() function to filter out words from a list that don't start with the letter 's'.\n",
    "    #For example:\n",
    "    #seq = ['soup','dog','salad','cat','great']\n",
    "    #should be filtered down to:    ['soup','salad']\n"
   ]
  },
  {
   "cell_type": "code",
   "execution_count": 14,
   "metadata": {},
   "outputs": [
    {
     "data": {
      "text/plain": [
       "['dog', 'cat', 'great']"
      ]
     },
     "execution_count": 14,
     "metadata": {},
     "output_type": "execute_result"
    }
   ],
   "source": [
    "seq = ['soup','dog','salad','cat','great']\n",
    "list(filter(lambda word: word[0]!='s',seq))"
   ]
  },
  {
   "cell_type": "markdown",
   "metadata": {},
   "source": [
    "# Q10. You are driving a little too fast, and a police officer stops you. Write a function to return one of 3 possible results: \"No ticket\", \"Small ticket\", or \"Big Ticket\". \n",
    "      #If your speed is 60 or less, the result is \"No Ticket\". If speed is between 61 \n",
    "     # and 80 inclusive, the result is \"Small Ticket\". If speed is 81 or more, the result is \"Big    Ticket\".\n",
    "    # Unless it is your birthday (encoded as a boolean value in the parameters of the function) --on your birthday, your speed can be 5 higher in all cases. "
   ]
  },
  {
   "cell_type": "code",
   "execution_count": 10,
   "metadata": {},
   "outputs": [
    {
     "name": "stdout",
     "output_type": "stream",
     "text": [
      "enter the speed:65\n",
      "enter is your birthday or not(0/1):1\n",
      "No Ticket\n"
     ]
    }
   ],
   "source": [
    "def speed(s):\n",
    "    if(s<=60):\n",
    "        print(\"No Ticket\")\n",
    "    elif(s>60 and s<81):\n",
    "        print (\"Small Ticket\")\n",
    "    else:\n",
    "        print (\"Big ticiket\")\n",
    "\n",
    "sp=int(input(\"enter the speed:\"))\n",
    "bi=bool(input(\"enter is your birthday or not(0/1):\"))\n",
    "if(bi):\n",
    "    speed(sp-5)\n",
    "else :\n",
    "    speed(sp)\n",
    "        \n",
    "     \n",
    "        "
   ]
  },
  {
   "cell_type": "code",
   "execution_count": null,
   "metadata": {},
   "outputs": [],
   "source": []
  },
  {
   "cell_type": "code",
   "execution_count": null,
   "metadata": {},
   "outputs": [],
   "source": []
  },
  {
   "cell_type": "code",
   "execution_count": null,
   "metadata": {},
   "outputs": [],
   "source": []
  }
 ],
 "metadata": {
  "kernelspec": {
   "display_name": "Python 3",
   "language": "python",
   "name": "python3"
  },
  "language_info": {
   "codemirror_mode": {
    "name": "ipython",
    "version": 3
   },
   "file_extension": ".py",
   "mimetype": "text/x-python",
   "name": "python",
   "nbconvert_exporter": "python",
   "pygments_lexer": "ipython3",
   "version": "3.7.3"
  }
 },
 "nbformat": 4,
 "nbformat_minor": 2
}
